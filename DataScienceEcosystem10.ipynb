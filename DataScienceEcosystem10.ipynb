{
 "cells": [
  {
   "cell_type": "markdown",
   "id": "72ac1c05",
   "metadata": {},
   "source": [
    "# Data Science Tools and Ecosystem\n",
    "In this notebook, Data Science Tools and Ecosystem are summarized."
   ]
  },
  {
   "cell_type": "markdown",
   "id": "1111d837",
   "metadata": {},
   "source": [
    "## Objectives:\n",
    "*  R\n",
    "*  Python\n",
    "*  Java\n",
    "*  javaScript"
   ]
  },
  {
   "cell_type": "code",
   "execution_count": null,
   "id": "21aae828",
   "metadata": {},
   "outputs": [],
   "source": []
  }
 ],
 "metadata": {
  "kernelspec": {
   "display_name": "Python 3 (ipykernel)",
   "language": "python",
   "name": "python3"
  },
  "language_info": {
   "codemirror_mode": {
    "name": "ipython",
    "version": 3
   },
   "file_extension": ".py",
   "mimetype": "text/x-python",
   "name": "python",
   "nbconvert_exporter": "python",
   "pygments_lexer": "ipython3",
   "version": "3.10.9"
  }
 },
 "nbformat": 4,
 "nbformat_minor": 5
}
