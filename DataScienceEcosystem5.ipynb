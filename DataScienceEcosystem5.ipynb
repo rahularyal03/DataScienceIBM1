{
 "cells": [
  {
   "cell_type": "markdown",
   "id": "bbf658cd",
   "metadata": {},
   "source": [
    "# Data Science Tools and Ecosystem"
   ]
  },
  {
   "cell_type": "markdown",
   "id": "be8c6054",
   "metadata": {},
   "source": [
    "In this notebook, Data Science Tools and Ecosystem are summarized.\n",
    "1. PyTorch\n",
    "2. SciKit-Learn\n",
    "3. Numpy\n",
    "4. Pandas"
   ]
  },
  {
   "cell_type": "code",
   "execution_count": null,
   "id": "c5e25f08",
   "metadata": {},
   "outputs": [],
   "source": []
  }
 ],
 "metadata": {
  "kernelspec": {
   "display_name": "Python 3 (ipykernel)",
   "language": "python",
   "name": "python3"
  },
  "language_info": {
   "codemirror_mode": {
    "name": "ipython",
    "version": 3
   },
   "file_extension": ".py",
   "mimetype": "text/x-python",
   "name": "python",
   "nbconvert_exporter": "python",
   "pygments_lexer": "ipython3",
   "version": "3.10.9"
  }
 },
 "nbformat": 4,
 "nbformat_minor": 5
}
