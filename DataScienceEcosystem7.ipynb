{
 "cells": [
  {
   "cell_type": "markdown",
   "id": "5050b9dd",
   "metadata": {},
   "source": [
    "# Evaluating arithmetic expressions in Python\n",
    "The expression with parentheses are evaluated first. If two or more parentheses exist in an expression, the parentheses are evaluated from left to right.\n"
   ]
  },
  {
   "cell_type": "code",
   "execution_count": null,
   "id": "60068b3e",
   "metadata": {},
   "outputs": [],
   "source": []
  }
 ],
 "metadata": {
  "kernelspec": {
   "display_name": "Python 3 (ipykernel)",
   "language": "python",
   "name": "python3"
  },
  "language_info": {
   "codemirror_mode": {
    "name": "ipython",
    "version": 3
   },
   "file_extension": ".py",
   "mimetype": "text/x-python",
   "name": "python",
   "nbconvert_exporter": "python",
   "pygments_lexer": "ipython3",
   "version": "3.10.9"
  }
 },
 "nbformat": 4,
 "nbformat_minor": 5
}
